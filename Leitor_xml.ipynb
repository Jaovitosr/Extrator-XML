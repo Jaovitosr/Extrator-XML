{
  "nbformat": 4,
  "nbformat_minor": 0,
  "metadata": {
    "colab": {
      "provenance": [],
      "authorship_tag": "ABX9TyMpEPlffKV89+S1mQHpcqkf",
      "include_colab_link": true
    },
    "kernelspec": {
      "name": "python3",
      "display_name": "Python 3"
    },
    "language_info": {
      "name": "python"
    }
  },
  "cells": [
    {
      "cell_type": "markdown",
      "metadata": {
        "id": "view-in-github",
        "colab_type": "text"
      },
      "source": [
        "<a href=\"https://colab.research.google.com/github/Jaovitosr/Extrator-XML/blob/main/Leitor_xml.ipynb\" target=\"_parent\"><img src=\"https://colab.research.google.com/assets/colab-badge.svg\" alt=\"Open In Colab\"/></a>"
      ]
    },
    {
      "cell_type": "code",
      "execution_count": null,
      "metadata": {
        "id": "jIyuLthYfJuY"
      },
      "outputs": [],
      "source": [
        "import xml.etree.ElementTree as ET\n",
        "from xml.dom import minidom\n",
        "import re\n",
        "import csv\n",
        "import pandas as pd"
      ]
    },
    {
      "cell_type": "markdown",
      "source": [
        "#Correção do formato do arquivo .xml gerado pelo iTrace#"
      ],
      "metadata": {
        "id": "WKm3xcNjEgo2"
      }
    },
    {
      "cell_type": "code",
      "source": [
        "def alterar_nomes_xml(arquivo_xml):\n",
        "\n",
        "    with open(arquivo_xml, 'r') as file:\n",
        "        conteudo = file.read()\n",
        "\n",
        "    padrao_abertura = r\"<(\\d+)>\"\n",
        "    padrao_fechamento = r\"</(\\d+)>\"\n",
        "\n",
        "\n",
        "    conteudo_modificado = re.sub(padrao_abertura, r\"<prefixo_\\1>\", conteudo)\n",
        "\n",
        "    conteudo_modificado = re.sub(padrao_fechamento, r\"</prefixo_\\1>\", conteudo_modificado)\n",
        "\n",
        "    conteudo_modificado = re.sub(r\"<\\?xml.*?\\?>\\s*\", \"\", conteudo_modificado, count=1)\n",
        "\n",
        "    conteudo_modificado = f'<?xml version=\"1.0\" encoding=\"UTF-8\"?>\\n<root>\\n{conteudo_modificado}\\n</root>'\n",
        "\n",
        "    with open('itraceFixed.xml', 'w') as file:\n",
        "        file.write(conteudo_modificado)\n",
        "\n",
        "alterar_nomes_xml('itrace_chrome.xml')"
      ],
      "metadata": {
        "id": "qwlic4AAe-CS"
      },
      "execution_count": null,
      "outputs": []
    },
    {
      "cell_type": "markdown",
      "source": [
        "#Armazenamento dos dados em uma lista de listas#"
      ],
      "metadata": {
        "id": "5Cv50Co14M0C"
      }
    },
    {
      "cell_type": "code",
      "source": [
        "data = [\n",
        "    [\"area\", \"id\", \"timestamp\"]\n",
        "]\n",
        "\n",
        "i = 1\n",
        "j = 1\n",
        "k = 1\n",
        "\n",
        "with open(\"itraceFixed.xml\", 'r', encoding='utf-8') as f:\n",
        "    xml = minidom.parse(f)\n",
        "    area = xml.getElementsByTagName(\"area\")\n",
        "    timestamp = xml.getElementsByTagName(\"current_timestamp\")\n",
        "    id = xml.getElementsByTagName(\"id\")\n",
        "\n",
        "    for tag in area:\n",
        "        if i >= len(data):\n",
        "          data.append([])\n",
        "        data[i].insert(0, tag.firstChild.data)\n",
        "        i += 1\n",
        "\n",
        "    for tag in timestamp:\n",
        "       if j >= len(data):\n",
        "         data.append([])\n",
        "       data[j].insert(2, tag.firstChild.data)\n",
        "       j += 1\n",
        "\n",
        "    for tag in id:\n",
        "      if k >= len(data):\n",
        "          data.append([])\n",
        "      data[k].insert(1, tag.firstChild.data)\n",
        "      k += 1"
      ],
      "metadata": {
        "id": "ntOpXRN34HDC"
      },
      "execution_count": null,
      "outputs": []
    },
    {
      "cell_type": "markdown",
      "source": [
        "#Armazenamento dos dados em um .csv#"
      ],
      "metadata": {
        "id": "nYmJ32jdEWiz"
      }
    },
    {
      "cell_type": "code",
      "source": [
        "csv_name = \"data.csv\"\n",
        "\n",
        "with open (csv_name, mode='w', newline='') as data_csv:\n",
        "\n",
        "  escritor_csv = csv.writer(data_csv)\n",
        "\n",
        "  for linha in data:\n",
        "      escritor_csv.writerow(linha)"
      ],
      "metadata": {
        "id": "5O2Ey6ds6Xrk"
      },
      "execution_count": null,
      "outputs": []
    },
    {
      "cell_type": "markdown",
      "source": [
        "#Uso do pandas para análise do .csv#"
      ],
      "metadata": {
        "id": "Ga6ibbDeEbYr"
      }
    },
    {
      "cell_type": "code",
      "source": [
        "df = pd.read_csv(csv_name)\n",
        "df.head()"
      ],
      "metadata": {
        "id": "4QT2K2XQDlei"
      },
      "execution_count": null,
      "outputs": []
    },
    {
      "cell_type": "markdown",
      "source": [
        "#Contagem do Fixation#\n"
      ],
      "metadata": {
        "id": "M1ajsnKjdRha"
      }
    },
    {
      "cell_type": "code",
      "source": [
        "dic = {}\n",
        "timestamp = \"timestamp\"\n",
        "next_area = None\n",
        "time0 = 0\n",
        "time1 = 0\n",
        "time = 0\n",
        "\n",
        "for index, row in df.iterrows():\n",
        "\n",
        "    area = row['area']\n",
        "\n",
        "    if index < len(df) - 1:\n",
        "        proxima_linha = df.iloc[index + 1]\n",
        "        next_area = proxima_linha['area']\n",
        "        next_time = proxima_linha['timestamp']\n",
        "    else:\n",
        "      next_area = None\n",
        "\n",
        "    if index > 0:\n",
        "      linha_anterior = df.iloc[index - 1]\n",
        "      previous_area = linha_anterior['area']\n",
        "\n",
        "    if area in dic:\n",
        "\n",
        "      if next_area != area and previous_area != area:\n",
        "        time0 = int(row[timestamp])\n",
        "        time1 = int(next_time)\n",
        "        time = time1 - time0\n",
        "        dic[area].append(time)\n",
        "\n",
        "      elif next_area != area:\n",
        "        time1 = int(row[timestamp])\n",
        "        time = time1 - time0\n",
        "        dic[area].append(time)\n",
        "\n",
        "      elif next_area == area and previous_area != area:\n",
        "        time0 = int(row[timestamp])\n",
        "        time1 = int(row[timestamp])\n",
        "        time = time1 - time0\n",
        "        dic[area].append(time)\n",
        "\n",
        "    else:\n",
        "      dic[area] = []\n",
        "      time0 = int(row[timestamp])\n",
        "\n",
        "      if next_area != area and previous_area != area:\n",
        "        time1 = int(next_time)\n",
        "        time = time1 - time0\n",
        "        dic[area].append(time)\n",
        "\n",
        "for chave, lista_de_listas in dic.items():\n",
        "    print(f'Chave: {chave}')\n",
        "    for lista in lista_de_listas:\n",
        "        print(lista)"
      ],
      "metadata": {
        "id": "PbiKqXdiEOdc"
      },
      "execution_count": null,
      "outputs": []
    },
    {
      "cell_type": "markdown",
      "source": [
        "#Armazenando a soma do Fixation num .csv\n",
        "\n",
        "\n"
      ],
      "metadata": {
        "id": "eVQtJdZu08Ve"
      }
    },
    {
      "cell_type": "code",
      "source": [
        "with open('resultado.csv', mode='w', newline='') as arquivo_csv:\n",
        "    writer = csv.writer(arquivo_csv)\n",
        "\n",
        "    writer.writerow(['area', 'fixation'])\n",
        "\n",
        "    for chave, valores in dic.items():\n",
        "\n",
        "        soma = sum(valores)\n",
        "        writer.writerow([chave, soma])"
      ],
      "metadata": {
        "id": "UhKpwWmaFBGW"
      },
      "execution_count": null,
      "outputs": []
    }
  ]
}